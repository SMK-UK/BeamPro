{
 "cells": [
  {
   "cell_type": "code",
   "execution_count": null,
   "id": "4cca0b2c",
   "metadata": {},
   "outputs": [],
   "source": [
    "from BeamProcessor import BeamProcessor as bp\n",
    "# directory t images and distance files\n",
    "dir = r\"Examples\\Images\"\n",
    "# initialise the class\n",
    "beam = bp(directory=dir, chipsize=[9.6, 7.68], wavelength=1550E-6)\n",
    "# plot raw image\n",
    "beam.plotter.plot(0)\n",
    "# plot processed image, cropped around the beam\n",
    "beam.plotter.plot(0, crop=True)\n",
    "# plot processed image with fit\n",
    "beam.plotter.plot_fit(0, True)\n",
    "# plot the overall fit\n",
    "beam.plotter.plot_beam()\n",
    "# print out the fitted waist\n",
    "beam.fit_beam()\n",
    "# print out data from individual images\n",
    "beam.processed[0].zpos\n",
    "beam.processed[0].xwaist\n",
    "beam.processed[0].ywaist"
   ]
  }
 ],
 "metadata": {
  "language_info": {
   "name": "python"
  }
 },
 "nbformat": 4,
 "nbformat_minor": 5
}
